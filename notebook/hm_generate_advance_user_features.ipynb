{
 "cells": [
  {
   "cell_type": "markdown",
   "metadata": {},
   "source": [
    "### Generate user advance features\n",
    "* Reference - https://www.kaggle.com/code/alexvishnevskiy/ranking-user-features/notebook"
   ]
  },
  {
   "cell_type": "code",
   "execution_count": null,
   "metadata": {},
   "outputs": [],
   "source": [
    "import sys\n",
    "sys.path.append('/Users/jasonlin/Desktop/hm-competition')\n",
    "\n",
    "from tqdm.notebook import tqdm\n",
    "import numpy as np\n",
    "import pandas as pd\n",
    "from datetime import datetime\n",
    "from pathlib import Path\n",
    "from src.advance_user_features import (\n",
    "    UserFeaturesCollector,\n",
    "    AggrFeatures, \n",
    "    CountFeatures, \n",
    "    CustomerFeatures,\n",
    "    ArticlesFeatures,\n",
    ")"
   ]
  },
  {
   "cell_type": "code",
   "execution_count": null,
   "metadata": {},
   "outputs": [],
   "source": [
    "base_pth = Path('/Users/jasonlin/Desktop/hm-competition/hm_datasets')\n",
    "transactions_df = pd.read_csv(base_pth/'transactions_train.csv')\n",
    "transactions_df['t_dat'] = pd.to_datetime(transactions_df['t_dat'])\n",
    "customers_df = pd.read_csv(base_pth/'customers.csv')\n",
    "articles_df = pd.read_csv(base_pth/'articles.csv')"
   ]
  },
  {
   "cell_type": "code",
   "execution_count": null,
   "metadata": {},
   "outputs": [],
   "source": [
    "%%time\n",
    "user_features = UserFeaturesCollector.collect([\n",
    "    AggrFeatures(transactions_df),\n",
    "    CountFeatures(transactions_df, 3),\n",
    "    CustomerFeatures(customers_df),\n",
    "    ArticlesFeatures(transactions_df, articles_df, 3),\n",
    "])"
   ]
  },
  {
   "cell_type": "code",
   "execution_count": null,
   "metadata": {},
   "outputs": [],
   "source": [
    "user_features.to_parquet(data_path/'user_features.parquet')"
   ]
  },
  {
   "cell_type": "code",
   "execution_count": null,
   "metadata": {},
   "outputs": [],
   "source": []
  },
  {
   "cell_type": "code",
   "execution_count": null,
   "metadata": {},
   "outputs": [],
   "source": [
    "### given age bins & season\n",
    "def _add_season_column(transaction_df):\n",
    "    conditions = [\n",
    "        (\n",
    "            transaction_df[\"t_dat\"].between(\n",
    "                datetime(2019, 3, 1), datetime(2019, 5, 31)\n",
    "            )\n",
    "        )\n",
    "        | (\n",
    "            transaction_df[\"t_dat\"].between(\n",
    "                datetime(2020, 3, 1), datetime(2020, 5, 31)\n",
    "            )\n",
    "        ),\n",
    "        (\n",
    "            transaction_df[\"t_dat\"].between(\n",
    "                datetime(2019, 6, 1), datetime(2019, 8, 31)\n",
    "            )\n",
    "        )\n",
    "        | (\n",
    "            transaction_df[\"t_dat\"].between(\n",
    "                datetime(2020, 6, 1), datetime(2020, 8, 31)\n",
    "            )\n",
    "        ),\n",
    "        (\n",
    "            transaction_df[\"t_dat\"].between(\n",
    "                datetime(2018, 9, 1), datetime(2018, 11, 30)\n",
    "            )\n",
    "        )\n",
    "        | (\n",
    "            transaction_df[\"t_dat\"].between(\n",
    "                datetime(2019, 9, 1), datetime(2019, 11, 30)\n",
    "            )\n",
    "        )\n",
    "        | (\n",
    "            transaction_df[\"t_dat\"].between(\n",
    "                datetime(2020, 9, 1), datetime(2020, 11, 30)\n",
    "            )\n",
    "        ),\n",
    "        (\n",
    "            transaction_df[\"t_dat\"].between(\n",
    "                datetime(2018, 12, 1), datetime(2019, 2, 28)\n",
    "            )\n",
    "        )\n",
    "        | (\n",
    "            transaction_df[\"t_dat\"].between(\n",
    "                datetime(2019, 12, 1), datetime(2020, 2, 29)\n",
    "            )\n",
    "        ),\n",
    "    ]\n",
    "    choices = [\"spring\", \"summer\", \"fall\", \"winter\"]\n",
    "    transaction_df[\"season\"] = np.select(conditions, choices)\n",
    "    return transaction_df"
   ]
  },
  {
   "cell_type": "code",
   "execution_count": null,
   "metadata": {},
   "outputs": [],
   "source": [
    "customers_df_with_age_bins = customers_df.copy()\n",
    "customers_df_with_age_bins['age_bins'] = pd.cut(customers_df_with_age_bins['age'], [-1, 19, 29, 39, 49, 69, 119])\n",
    "customers_df_with_age_bins['age_bins'] = customers_df_with_age_bins['age_bins'].astype(str)\n",
    "\n",
    "transactions_df_with_season = _add_season_column(transactions_df)"
   ]
  },
  {
   "cell_type": "code",
   "execution_count": null,
   "metadata": {},
   "outputs": [],
   "source": [
    "seasons = list(transactions_df_with_season['season'].unique())\n",
    "age_bins = list(customers_df_with_age_bins['age_bins'].unique())\n",
    "for season in tqdm(seasons):\n",
    "    for age_bin in tqdm(age_bins):\n",
    "        tmp_trans = transactions_df_with_season[transactions_df_with_season['season'] == season].copy()\n",
    "        tmp_trans = tmp_trans.drop(columns=['season'])\n",
    "\n",
    "        tmp_cus = customers_df_with_age_bins[customers_df_with_age_bins['age_bins'] == age_bin].copy()\n",
    "        tmp_cus = tmp_cus.drop(columns=['age_bins'])\n",
    "\n",
    "        user_features = UserFeaturesCollector.collect([\n",
    "            AggrFeatures(tmp_trans),\n",
    "            CountFeatures(tmp_trans, 3),\n",
    "            CustomerFeatures(tmp_cus, use_age=False),\n",
    "            ArticlesFeatures(tmp_trans, articles_df, 3),\n",
    "        ])\n",
    "        user_features.to_parquet(base_pth/f'cust_features/user_{season}_{age_bin}_features.parquet')\n",
    "    "
   ]
  }
 ],
 "metadata": {
  "interpreter": {
   "hash": "2d58e898dde0263bc564c6968b04150abacfd33eed9b19aaa8e45c040360e146"
  },
  "kernelspec": {
   "display_name": "Python 3.7.10 ('pytorch')",
   "language": "python",
   "name": "python3"
  },
  "language_info": {
   "codemirror_mode": {
    "name": "ipython",
    "version": 3
   },
   "file_extension": ".py",
   "mimetype": "text/x-python",
   "name": "python",
   "nbconvert_exporter": "python",
   "pygments_lexer": "ipython3",
   "version": "3.9.10"
  },
  "orig_nbformat": 4
 },
 "nbformat": 4,
 "nbformat_minor": 2
}
