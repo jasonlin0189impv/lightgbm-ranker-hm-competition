{
 "cells": [
  {
   "cell_type": "markdown",
   "metadata": {},
   "source": [
    "### Generate user advance features\n",
    "* Reference - https://www.kaggle.com/code/alexvishnevskiy/ranking-item-features/notebook"
   ]
  },
  {
   "cell_type": "code",
   "execution_count": null,
   "metadata": {},
   "outputs": [],
   "source": [
    "import sys\n",
    "sys.path.append('/home/ec2-user/hm-competition')\n",
    "\n",
    "import pandas as pd\n",
    "from pathlib import Path\n",
    "from src.advance_article_features import (\n",
    "    ItemFeaturesCollector,\n",
    "    CategoryTransform,\n",
    "    AggrTransform,\n",
    "    TopTransforms\n",
    ")"
   ]
  },
  {
   "cell_type": "code",
   "execution_count": null,
   "metadata": {},
   "outputs": [],
   "source": [
    "data_path = Path('/home/ec2-user/hm-competition/hm_datasets')\n",
    "transactions_df = pd.read_csv(data_path/'transactions_train.csv')\n",
    "transactions_df['t_dat'] = pd.to_datetime(transactions_df['t_dat'])\n",
    "customers_df = pd.read_csv(data_path/'customers.csv')\n",
    "articles_df = pd.read_csv(data_path/'articles.csv')"
   ]
  },
  {
   "cell_type": "code",
   "execution_count": null,
   "metadata": {},
   "outputs": [],
   "source": [
    "item_features = ItemFeaturesCollector.collect([\n",
    "    CategoryTransform(articles_df),\n",
    "    AggrTransform(articles_df, transactions_df),\n",
    "    TopTransforms(articles_df)\n",
    "])"
   ]
  },
  {
   "cell_type": "code",
   "execution_count": null,
   "metadata": {},
   "outputs": [],
   "source": [
    "item_features.to_parquet(data_path/'item_features.parquet')"
   ]
  },
  {
   "cell_type": "code",
   "execution_count": null,
   "metadata": {},
   "outputs": [],
   "source": [
    "tmp = pd.read_parquet(data_path/'item_features.parquet')"
   ]
  },
  {
   "cell_type": "code",
   "execution_count": null,
   "metadata": {},
   "outputs": [],
   "source": [
    "tmp.columns"
   ]
  }
 ],
 "metadata": {
  "interpreter": {
   "hash": "2d58e898dde0263bc564c6968b04150abacfd33eed9b19aaa8e45c040360e146"
  },
  "kernelspec": {
   "display_name": "Python 3.7.10 ('pytorch')",
   "language": "python",
   "name": "python3"
  },
  "language_info": {
   "codemirror_mode": {
    "name": "ipython",
    "version": 3
   },
   "file_extension": ".py",
   "mimetype": "text/x-python",
   "name": "python",
   "nbconvert_exporter": "python",
   "pygments_lexer": "ipython3",
   "version": "3.7.10"
  },
  "orig_nbformat": 4
 },
 "nbformat": 4,
 "nbformat_minor": 2
}
